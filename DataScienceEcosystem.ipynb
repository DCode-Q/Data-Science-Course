{
 "cells": [
  {
   "cell_type": "markdown",
   "id": "fd12ca37-b994-49c1-ae2f-234efbb422e6",
   "metadata": {},
   "source": [
    "# Data Science Tools and Ecosystem "
   ]
  },
  {
   "cell_type": "markdown",
   "id": "c8bd2827-dfb6-4318-8820-990f33e223e3",
   "metadata": {},
   "source": [
    "## In this notebook, Data Science Tolls and Ecosystem are summariszed."
   ]
  },
  {
   "cell_type": "markdown",
   "id": "a569cfa9-aae2-4940-9156-4f0f9030490e",
   "metadata": {},
   "source": [
    "**Objectives:**\n",
    "\n",
    "*  popular languages for Data Science \n",
    "*  popular llibraries for Data Science\n",
    "*  arithmetic expressions in Python\n"
   ]
  },
  {
   "cell_type": "markdown",
   "id": "4910ec55-6b0e-4efd-92f2-520992ac6271",
   "metadata": {},
   "source": [
    "### Some of the popular languages that Data Scienstists use are: \n",
    "\n",
    "1. Python \n",
    "2. Java \n",
    "3. R\n",
    "4. C++"
   ]
  },
  {
   "cell_type": "markdown",
   "id": "69b3d6f8-d69a-45fa-8dd9-1b02d560d662",
   "metadata": {},
   "source": [
    "### Some of the commonly used libraries used by Data Scientists include: \n",
    "\n",
    "1. Pandas \n",
    "2. NumPy \n",
    "3. Pytorch\n",
    "4. Matplotlib "
   ]
  },
  {
   "cell_type": "markdown",
   "id": "f335035a-c6a7-4205-b161-9f76b6fad777",
   "metadata": {},
   "source": [
    " | Data Science Tools |\n",
    " | ------------------- |\n",
    " | R Studio |\n",
    " | JupyterLab |\n",
    " | Spyder |"
   ]
  },
  {
   "cell_type": "markdown",
   "id": "21b2aa21-a6a2-4d1d-9772-0f10175bcf3c",
   "metadata": {},
   "source": [
    "### Below are a few examples of evaluating arithmetic expressions in Python.\n",
    "\n"
   ]
  },
  {
   "cell_type": "code",
   "execution_count": 1,
   "id": "a6f9fba4-2e3a-49a9-a8e5-0226b87ad7f2",
   "metadata": {},
   "outputs": [
    {
     "data": {
      "text/plain": [
       "37"
      ]
     },
     "execution_count": 1,
     "metadata": {},
     "output_type": "execute_result"
    }
   ],
   "source": [
    "# this is a simple arithmetic experssion to multiply then add integers. \n",
    "\n",
    "(5*6)+7 \n"
   ]
  },
  {
   "cell_type": "code",
   "execution_count": 3,
   "id": "f5c844a1-4537-4908-b7a7-92466e8c65ad",
   "metadata": {},
   "outputs": [
    {
     "data": {
      "text/plain": [
       "2.0"
      ]
     },
     "execution_count": 3,
     "metadata": {},
     "output_type": "execute_result"
    }
   ],
   "source": [
    "#This will convert 200 minutes to hours by dividing by 60.\n",
    "120/60 "
   ]
  },
  {
   "cell_type": "markdown",
   "id": "3b507146-fc72-4ff1-a0bd-13be7cd97079",
   "metadata": {},
   "source": [
    "## Author\n",
    "D. K."
   ]
  }
 ],
 "metadata": {
  "kernelspec": {
   "display_name": "Python [conda env:base] *",
   "language": "python",
   "name": "conda-base-py"
  },
  "language_info": {
   "codemirror_mode": {
    "name": "ipython",
    "version": 3
   },
   "file_extension": ".py",
   "mimetype": "text/x-python",
   "name": "python",
   "nbconvert_exporter": "python",
   "pygments_lexer": "ipython3",
   "version": "3.11.5"
  }
 },
 "nbformat": 4,
 "nbformat_minor": 5
}
